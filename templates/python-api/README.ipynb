{
    "cells": [
        {
            "cell_type": "markdown",
            "id": "215486eb",
            "metadata": {
                "papermill": {
                    "duration": 0.010737,
                    "end_time": "2022-05-12T02:33:51.431686",
                    "exception": false,
                    "start_time": "2022-05-12T02:33:51.420949",
                    "status": "completed"
                },
                "tags": []
            },
            "source": [
                "To run this example locally, [install Ploomber](https://docs.ploomber.io/en/latest/get-started/quick-start.html) and execute: `ploomber examples -n templates/python-api`\n",
                "\n",
                "To start a free, hosted JupyterLab: [![binder-logo](https://binder.ploomber.io/badge_logo.svg)](https://binder.ploomber.io/v2/gh/ploomber/binder-env/main?urlpath=git-pull%3Frepo%3Dhttps%253A%252F%252Fgithub.com%252Fploomber%252Fprojects%26urlpath%3Dlab%252Ftree%252Fprojects%252Ftemplates/python-api%252FREADME.ipynb%26branch%3Dmaster)\n",
                "\n",
                "Found an issue? [Let us know.](https://github.com/ploomber/projects/issues/new?title=templates/python-api%20issue)\n",
                "\n",
                "Have questions? [Ask us anything on Slack.](https://ploomber.io/community/)\n"
            ]
        },
        {
            "cell_type": "markdown",
            "id": "7fb7393b",
            "metadata": {
                "papermill": {
                    "duration": 0.008286,
                    "end_time": "2022-05-12T02:33:51.448574",
                    "exception": false,
                    "start_time": "2022-05-12T02:33:51.440288",
                    "status": "completed"
                },
                "tags": []
            },
            "source": [
                "# Python API\n",
                "\n",
                "<!-- start description -->\n",
                "Loads, clean, and plot data using the Python API.\n",
                "<!-- end description -->"
            ]
        },
        {
            "cell_type": "markdown",
            "id": "e9f334e0",
            "metadata": {
                "papermill": {
                    "duration": 0.009055,
                    "end_time": "2022-05-12T02:33:51.465939",
                    "exception": false,
                    "start_time": "2022-05-12T02:33:51.456884",
                    "status": "completed"
                },
                "tags": []
            },
            "source": [
                "If you're new to the Python API, check out [python-api-examples/](../../python-api-examples) directory, containing tutorials and more examples.\n",
                "\n",
                "## Description\n",
                "\n",
                "This pipeline has three tasks:\n",
                "\n",
                "1. Load task (Python function): CSV file\n",
                "2. Clean task (Python script):  Jupyter notebook and another CSV file\n",
                "3. Plot task (Python scripts): Jupyter notebook\n",
                "\n",
                "## Build"
            ]
        },
        {
            "cell_type": "code",
            "execution_count": 1,
            "id": "065d1701",
            "metadata": {
                "execution": {
                    "iopub.execute_input": "2022-05-12T02:33:51.492357Z",
                    "iopub.status.busy": "2022-05-12T02:33:51.491714Z",
                    "iopub.status.idle": "2022-05-12T02:34:08.542369Z",
                    "shell.execute_reply": "2022-05-12T02:34:08.542981Z"
                },
                "papermill": {
                    "duration": 17.069544,
                    "end_time": "2022-05-12T02:34:08.543435",
                    "exception": false,
                    "start_time": "2022-05-12T02:33:51.473891",
                    "status": "completed"
                },
                "tags": []
            },
            "outputs": [
                {
                    "name": "stdout",
                    "output_type": "stream",
                    "text": [
                        "Loading pipeline...\n",
                        "name    Ran?      Elapsed (s)    Percentage\n",
                        "------  ------  -------------  ------------\n",
                        "load    True         0.007965      0.124453\n",
                        "clean   True         2.2055       34.4608\n",
                        "plot    True         4.18655      65.4148\n"
                    ]
                },
                {
                    "name": "stderr",
                    "output_type": "stream",
                    "text": [
                        "\r",
                        "  0%|          | 0/3 [00:00<?, ?it/s]\r",
                        "Building task 'load':   0%|          | 0/3 [00:00<?, ?it/s]\r",
                        "Building task 'load':  33%|███▎      | 1/3 [00:03<00:06,  3.41s/it]\r",
                        "Building task 'clean':  33%|███▎      | 1/3 [00:03<00:06,  3.41s/it]\n",
                        "\r",
                        "Executing:   0%|          | 0/5 [00:00<?, ?cell/s]\u001b[A\n",
                        "\r",
                        "Executing:  20%|██        | 1/5 [00:01<00:07,  1.75s/cell]\u001b[A\n",
                        "\r",
                        "Executing:  80%|████████  | 4/5 [00:01<00:00,  2.76cell/s]\u001b[A\r",
                        "Executing: 100%|██████████| 5/5 [00:02<00:00,  2.36cell/s]\n",
                        "\r",
                        "Building task 'clean':  67%|██████▋   | 2/3 [00:05<00:02,  2.72s/it]\r",
                        "Building task 'plot':  67%|██████▋   | 2/3 [00:05<00:02,  2.72s/it] \n",
                        "\r",
                        "Executing:   0%|          | 0/6 [00:00<?, ?cell/s]\u001b[A\n",
                        "\r",
                        "Executing:  17%|█▋        | 1/6 [00:03<00:16,  3.36s/cell]\u001b[A\n",
                        "\r",
                        "Executing:  67%|██████▋   | 4/6 [00:03<00:01,  1.50cell/s]\u001b[A\n",
                        "\r",
                        "Executing: 100%|██████████| 6/6 [00:03<00:00,  2.26cell/s]\u001b[A\r",
                        "Executing: 100%|██████████| 6/6 [00:04<00:00,  1.46cell/s]\n",
                        "\r",
                        "Building task 'plot': 100%|██████████| 3/3 [00:09<00:00,  3.40s/it]\r",
                        "Building task 'plot': 100%|██████████| 3/3 [00:09<00:00,  3.29s/it]\n"
                    ]
                }
            ],
            "source": [
                "%%bash\n",
                "ploomber build"
            ]
        }
    ],
    "metadata": {
        "kernelspec": {
            "display_name": "Python 3 (ipykernel)",
            "language": "python",
            "name": "python3"
        },
        "language_info": {
            "codemirror_mode": {
                "name": "ipython",
                "version": 3
            },
            "file_extension": ".py",
            "mimetype": "text/x-python",
            "name": "python",
            "nbconvert_exporter": "python",
            "pygments_lexer": "ipython3",
            "version": "3.9.7"
        },
        "papermill": {
            "default_parameters": {},
            "duration": 18.935116,
            "end_time": "2022-05-12T02:34:08.775835",
            "environment_variables": {},
            "exception": null,
            "input_path": "templates/python-api/_build/readme_preprocessed.ipynb",
            "output_path": "templates/python-api/README.ipynb",
            "parameters": {},
            "start_time": "2022-05-12T02:33:49.840719",
            "version": "2.3.4"
        }
    },
    "nbformat": 4,
    "nbformat_minor": 5
}
