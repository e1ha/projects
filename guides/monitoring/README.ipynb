{
    "cells": [
        {
            "cell_type": "markdown",
            "id": "0d146710",
            "metadata": {
                "tags": [
                    "papermill-error-cell-tag"
                ]
            },
            "source": [
                "<span style=\"color:red; font-family:Helvetica Neue, Helvetica, Arial, sans-serif; font-size:2em;\">An Exception was encountered at '<a href=\"#papermill-error-cell\">In [3]</a>'.</span>"
            ]
        },
        {
            "cell_type": "markdown",
            "id": "301b6900",
            "metadata": {
                "papermill": {
                    "duration": 0.045387,
                    "end_time": "2022-05-13T23:50:46.945656",
                    "exception": false,
                    "start_time": "2022-05-13T23:50:46.900269",
                    "status": "completed"
                },
                "tags": []
            },
            "source": [
                "To run this example locally, [install Ploomber](https://docs.ploomber.io/en/latest/get-started/quick-start.html) and execute: `ploomber examples -n guides/monitoring`\n",
                "\n",
                "To start a free, hosted JupyterLab: [![binder-logo](https://binder.ploomber.io/badge_logo.svg)](https://binder.ploomber.io/v2/gh/ploomber/binder-env/main?urlpath=git-pull%3Frepo%3Dhttps%253A%252F%252Fgithub.com%252Fploomber%252Fprojects%26urlpath%3Dlab%252Ftree%252Fprojects%252Fguides/monitoring%252FREADME.ipynb%26branch%3Dmaster)\n",
                "\n",
                "Found an issue? [Let us know.](https://github.com/ploomber/projects/issues/new?title=guides/monitoring%20issue)\n",
                "\n",
                "Have questions? [Ask us anything on Slack.](https://ploomber.io/community/)\n"
            ]
        },
        {
            "cell_type": "markdown",
            "id": "77190cf9",
            "metadata": {
                "papermill": {
                    "duration": 0.042597,
                    "end_time": "2022-05-13T23:50:47.027482",
                    "exception": false,
                    "start_time": "2022-05-13T23:50:46.984885",
                    "status": "completed"
                },
                "tags": []
            },
            "source": [
                "## Get a sample pipeline\n",
                "\n",
                "<!-- start description -->\n",
                "To show the capabilities we'll run our pipeline monitoring through a pre-built Ploomber template: ml-basic.\n",
                "<!-- end description -->"
            ]
        },
        {
            "cell_type": "code",
            "execution_count": 1,
            "id": "eb75560b",
            "metadata": {
                "execution": {
                    "iopub.execute_input": "2022-05-13T23:50:47.114131Z",
                    "iopub.status.busy": "2022-05-13T23:50:47.113228Z",
                    "iopub.status.idle": "2022-05-13T23:50:52.642077Z",
                    "shell.execute_reply": "2022-05-13T23:50:52.642567Z"
                },
                "papermill": {
                    "duration": 5.576878,
                    "end_time": "2022-05-13T23:50:52.642975",
                    "exception": false,
                    "start_time": "2022-05-13T23:50:47.066097",
                    "status": "completed"
                },
                "tags": []
            },
            "outputs": [
                {
                    "name": "stdout",
                    "output_type": "stream",
                    "text": [
                        "Loading pipeline...\n",
                        "Plot saved at: pipeline.png\n"
                    ]
                }
            ],
            "source": [
                "%%bash\n",
                "ploomber plot"
            ]
        },
        {
            "cell_type": "code",
            "execution_count": 2,
            "id": "3ce9bd71",
            "metadata": {
                "execution": {
                    "iopub.execute_input": "2022-05-13T23:50:52.735184Z",
                    "iopub.status.busy": "2022-05-13T23:50:52.734524Z",
                    "iopub.status.idle": "2022-05-13T23:50:52.746134Z",
                    "shell.execute_reply": "2022-05-13T23:50:52.746666Z"
                },
                "papermill": {
                    "duration": 0.05974,
                    "end_time": "2022-05-13T23:50:52.746914",
                    "exception": false,
                    "start_time": "2022-05-13T23:50:52.687174",
                    "status": "completed"
                },
                "tags": []
            },
            "outputs": [
                {
                    "data": {
                        "image/png": "[encoded data removed]",
                        "text/plain": [
                            "<IPython.core.display.Image object>"
                        ]
                    },
                    "execution_count": 2,
                    "metadata": {},
                    "output_type": "execute_result"
                }
            ],
            "source": [
                "# If using jupyter, you can show the plot with this code:\n",
                "from IPython.display import Image\n",
                "Image(filename='pipeline.png')\n",
                "# otherwise open the pipeline.png file directly\n",
                "\n",
                "# NOTE: ploomber plot will generate a pipeline.html (not .png) file if\n",
                "# pygraphviz is missing. In such case, open the file to view the pipeline plot"
            ]
        },
        {
            "cell_type": "markdown",
            "id": "2fb6e40e",
            "metadata": {
                "papermill": {
                    "duration": 0.04689,
                    "end_time": "2022-05-13T23:50:52.836314",
                    "exception": false,
                    "start_time": "2022-05-13T23:50:52.789424",
                    "status": "completed"
                },
                "tags": []
            },
            "source": [
                "Let's take a look at the `pipeline.yaml`:"
            ]
        },
        {
            "cell_type": "markdown",
            "id": "09a018d1",
            "metadata": {
                "lines_to_next_cell": 2,
                "papermill": {
                    "duration": 0.040201,
                    "end_time": "2022-05-13T23:50:52.918265",
                    "exception": false,
                    "start_time": "2022-05-13T23:50:52.878064",
                    "status": "completed"
                },
                "region_name": "md",
                "tags": []
            },
            "source": [
                "```yaml\n",
                "# Content of pipeline.yaml\n",
                "tasks:\n",
                "  - source: tasks.get\n",
                "    product: output/get.parquet\n",
                "\n",
                "  - source: tasks.features\n",
                "    product: output/features.parquet\n",
                "\n",
                "  - source: tasks.join\n",
                "    product: output/join.parquet\n",
                "\n",
                "  - source: fit.py\n",
                "    name: fit\n",
                "    product:\n",
                "        nb: output/nb.ipynb\n",
                "        model: output/model.pickle\n",
                "\n",
                "```"
            ]
        },
        {
            "cell_type": "markdown",
            "id": "7f3e4437",
            "metadata": {
                "papermill": {
                    "duration": 0.043512,
                    "end_time": "2022-05-13T23:50:53.007882",
                    "exception": false,
                    "start_time": "2022-05-13T23:50:52.964370",
                    "status": "completed"
                },
                "tags": []
            },
            "source": [
                "## Setup your API key\n",
                "\n",
                "Go to the cloud and setup your key, add your email address:\n",
                "\n",
                "https://main.d3mpv0f3dqco4e.amplifyapp.com/register"
            ]
        },
        {
            "cell_type": "markdown",
            "id": "495bd3f5",
            "metadata": {
                "tags": [
                    "papermill-error-cell-tag"
                ]
            },
            "source": [
                "<span id=\"papermill-error-cell\" style=\"color:red; font-family:Helvetica Neue, Helvetica, Arial, sans-serif; font-size:2em;\">Execution using papermill encountered an exception here and stopped:</span>"
            ]
        },
        {
            "cell_type": "code",
            "execution_count": 3,
            "id": "745e9587",
            "metadata": {
                "execution": {
                    "iopub.execute_input": "2022-05-13T23:50:53.097880Z",
                    "iopub.status.busy": "2022-05-13T23:50:53.096914Z",
                    "iopub.status.idle": "2022-05-13T23:50:53.408647Z",
                    "shell.execute_reply": "2022-05-13T23:50:53.407392Z"
                },
                "papermill": {
                    "duration": 0.359559,
                    "end_time": "2022-05-13T23:50:53.408985",
                    "exception": true,
                    "start_time": "2022-05-13T23:50:53.049426",
                    "status": "failed"
                },
                "tags": []
            },
            "outputs": [
                {
                    "name": "stderr",
                    "output_type": "stream",
                    "text": [
                        "Usage: ploomber cloud set-key [OPTIONS] USER_KEY\n",
                        "Try 'ploomber cloud set-key --help' for help.\n",
                        "\n",
                        "Error: Missing argument 'USER_KEY'.\n"
                    ]
                },
                {
                    "ename": "CalledProcessError",
                    "evalue": "Command 'b'ploomber cloud set-key $YOUR_API_KEY\\n'' returned non-zero exit status 2.",
                    "output_type": "error",
                    "traceback": [
                        "\u001b[0;31m---------------------------------------------------------------------------\u001b[0m",
                        "\u001b[0;31mCalledProcessError\u001b[0m                        Traceback (most recent call last)",
                        "\u001b[0;32m/var/folders/3h/_lvh_w_x5g30rrjzb_xnn2j80000gq/T/ipykernel_37883/3010408561.py\u001b[0m in \u001b[0;36m<module>\u001b[0;34m\u001b[0m\n\u001b[0;32m----> 1\u001b[0;31m \u001b[0mget_ipython\u001b[0m\u001b[0;34m(\u001b[0m\u001b[0;34m)\u001b[0m\u001b[0;34m.\u001b[0m\u001b[0mrun_cell_magic\u001b[0m\u001b[0;34m(\u001b[0m\u001b[0;34m'bash'\u001b[0m\u001b[0;34m,\u001b[0m \u001b[0;34m''\u001b[0m\u001b[0;34m,\u001b[0m \u001b[0;34m'ploomber cloud set-key $YOUR_API_KEY\\n'\u001b[0m\u001b[0;34m)\u001b[0m\u001b[0;34m\u001b[0m\u001b[0;34m\u001b[0m\u001b[0m\n\u001b[0m",
                        "\u001b[0;32m~/miniconda3/envs/projects/lib/python3.9/site-packages/IPython/core/interactiveshell.py\u001b[0m in \u001b[0;36mrun_cell_magic\u001b[0;34m(self, magic_name, line, cell)\u001b[0m\n\u001b[1;32m   2404\u001b[0m             \u001b[0;32mwith\u001b[0m \u001b[0mself\u001b[0m\u001b[0;34m.\u001b[0m\u001b[0mbuiltin_trap\u001b[0m\u001b[0;34m:\u001b[0m\u001b[0;34m\u001b[0m\u001b[0;34m\u001b[0m\u001b[0m\n\u001b[1;32m   2405\u001b[0m                 \u001b[0margs\u001b[0m \u001b[0;34m=\u001b[0m \u001b[0;34m(\u001b[0m\u001b[0mmagic_arg_s\u001b[0m\u001b[0;34m,\u001b[0m \u001b[0mcell\u001b[0m\u001b[0;34m)\u001b[0m\u001b[0;34m\u001b[0m\u001b[0;34m\u001b[0m\u001b[0m\n\u001b[0;32m-> 2406\u001b[0;31m                 \u001b[0mresult\u001b[0m \u001b[0;34m=\u001b[0m \u001b[0mfn\u001b[0m\u001b[0;34m(\u001b[0m\u001b[0;34m*\u001b[0m\u001b[0margs\u001b[0m\u001b[0;34m,\u001b[0m \u001b[0;34m**\u001b[0m\u001b[0mkwargs\u001b[0m\u001b[0;34m)\u001b[0m\u001b[0;34m\u001b[0m\u001b[0;34m\u001b[0m\u001b[0m\n\u001b[0m\u001b[1;32m   2407\u001b[0m             \u001b[0;32mreturn\u001b[0m \u001b[0mresult\u001b[0m\u001b[0;34m\u001b[0m\u001b[0;34m\u001b[0m\u001b[0m\n\u001b[1;32m   2408\u001b[0m \u001b[0;34m\u001b[0m\u001b[0m\n",
                        "\u001b[0;32m~/miniconda3/envs/projects/lib/python3.9/site-packages/IPython/core/magics/script.py\u001b[0m in \u001b[0;36mnamed_script_magic\u001b[0;34m(line, cell)\u001b[0m\n\u001b[1;32m    140\u001b[0m             \u001b[0;32melse\u001b[0m\u001b[0;34m:\u001b[0m\u001b[0;34m\u001b[0m\u001b[0;34m\u001b[0m\u001b[0m\n\u001b[1;32m    141\u001b[0m                 \u001b[0mline\u001b[0m \u001b[0;34m=\u001b[0m \u001b[0mscript\u001b[0m\u001b[0;34m\u001b[0m\u001b[0;34m\u001b[0m\u001b[0m\n\u001b[0;32m--> 142\u001b[0;31m             \u001b[0;32mreturn\u001b[0m \u001b[0mself\u001b[0m\u001b[0;34m.\u001b[0m\u001b[0mshebang\u001b[0m\u001b[0;34m(\u001b[0m\u001b[0mline\u001b[0m\u001b[0;34m,\u001b[0m \u001b[0mcell\u001b[0m\u001b[0;34m)\u001b[0m\u001b[0;34m\u001b[0m\u001b[0;34m\u001b[0m\u001b[0m\n\u001b[0m\u001b[1;32m    143\u001b[0m \u001b[0;34m\u001b[0m\u001b[0m\n\u001b[1;32m    144\u001b[0m         \u001b[0;31m# write a basic docstring:\u001b[0m\u001b[0;34m\u001b[0m\u001b[0;34m\u001b[0m\u001b[0m\n",
                        "\u001b[0;32m~/miniconda3/envs/projects/lib/python3.9/site-packages/decorator.py\u001b[0m in \u001b[0;36mfun\u001b[0;34m(*args, **kw)\u001b[0m\n\u001b[1;32m    230\u001b[0m             \u001b[0;32mif\u001b[0m \u001b[0;32mnot\u001b[0m \u001b[0mkwsyntax\u001b[0m\u001b[0;34m:\u001b[0m\u001b[0;34m\u001b[0m\u001b[0;34m\u001b[0m\u001b[0m\n\u001b[1;32m    231\u001b[0m                 \u001b[0margs\u001b[0m\u001b[0;34m,\u001b[0m \u001b[0mkw\u001b[0m \u001b[0;34m=\u001b[0m \u001b[0mfix\u001b[0m\u001b[0;34m(\u001b[0m\u001b[0margs\u001b[0m\u001b[0;34m,\u001b[0m \u001b[0mkw\u001b[0m\u001b[0;34m,\u001b[0m \u001b[0msig\u001b[0m\u001b[0;34m)\u001b[0m\u001b[0;34m\u001b[0m\u001b[0;34m\u001b[0m\u001b[0m\n\u001b[0;32m--> 232\u001b[0;31m             \u001b[0;32mreturn\u001b[0m \u001b[0mcaller\u001b[0m\u001b[0;34m(\u001b[0m\u001b[0mfunc\u001b[0m\u001b[0;34m,\u001b[0m \u001b[0;34m*\u001b[0m\u001b[0;34m(\u001b[0m\u001b[0mextras\u001b[0m \u001b[0;34m+\u001b[0m \u001b[0margs\u001b[0m\u001b[0;34m)\u001b[0m\u001b[0;34m,\u001b[0m \u001b[0;34m**\u001b[0m\u001b[0mkw\u001b[0m\u001b[0;34m)\u001b[0m\u001b[0;34m\u001b[0m\u001b[0;34m\u001b[0m\u001b[0m\n\u001b[0m\u001b[1;32m    233\u001b[0m     \u001b[0mfun\u001b[0m\u001b[0;34m.\u001b[0m\u001b[0m__name__\u001b[0m \u001b[0;34m=\u001b[0m \u001b[0mfunc\u001b[0m\u001b[0;34m.\u001b[0m\u001b[0m__name__\u001b[0m\u001b[0;34m\u001b[0m\u001b[0;34m\u001b[0m\u001b[0m\n\u001b[1;32m    234\u001b[0m     \u001b[0mfun\u001b[0m\u001b[0;34m.\u001b[0m\u001b[0m__doc__\u001b[0m \u001b[0;34m=\u001b[0m \u001b[0mfunc\u001b[0m\u001b[0;34m.\u001b[0m\u001b[0m__doc__\u001b[0m\u001b[0;34m\u001b[0m\u001b[0;34m\u001b[0m\u001b[0m\n",
                        "\u001b[0;32m~/miniconda3/envs/projects/lib/python3.9/site-packages/IPython/core/magic.py\u001b[0m in \u001b[0;36m<lambda>\u001b[0;34m(f, *a, **k)\u001b[0m\n\u001b[1;32m    185\u001b[0m     \u001b[0;31m# but it's overkill for just that one bit of state.\u001b[0m\u001b[0;34m\u001b[0m\u001b[0;34m\u001b[0m\u001b[0m\n\u001b[1;32m    186\u001b[0m     \u001b[0;32mdef\u001b[0m \u001b[0mmagic_deco\u001b[0m\u001b[0;34m(\u001b[0m\u001b[0marg\u001b[0m\u001b[0;34m)\u001b[0m\u001b[0;34m:\u001b[0m\u001b[0;34m\u001b[0m\u001b[0;34m\u001b[0m\u001b[0m\n\u001b[0;32m--> 187\u001b[0;31m         \u001b[0mcall\u001b[0m \u001b[0;34m=\u001b[0m \u001b[0;32mlambda\u001b[0m \u001b[0mf\u001b[0m\u001b[0;34m,\u001b[0m \u001b[0;34m*\u001b[0m\u001b[0ma\u001b[0m\u001b[0;34m,\u001b[0m \u001b[0;34m**\u001b[0m\u001b[0mk\u001b[0m\u001b[0;34m:\u001b[0m \u001b[0mf\u001b[0m\u001b[0;34m(\u001b[0m\u001b[0;34m*\u001b[0m\u001b[0ma\u001b[0m\u001b[0;34m,\u001b[0m \u001b[0;34m**\u001b[0m\u001b[0mk\u001b[0m\u001b[0;34m)\u001b[0m\u001b[0;34m\u001b[0m\u001b[0;34m\u001b[0m\u001b[0m\n\u001b[0m\u001b[1;32m    188\u001b[0m \u001b[0;34m\u001b[0m\u001b[0m\n\u001b[1;32m    189\u001b[0m         \u001b[0;32mif\u001b[0m \u001b[0mcallable\u001b[0m\u001b[0;34m(\u001b[0m\u001b[0marg\u001b[0m\u001b[0;34m)\u001b[0m\u001b[0;34m:\u001b[0m\u001b[0;34m\u001b[0m\u001b[0;34m\u001b[0m\u001b[0m\n",
                        "\u001b[0;32m~/miniconda3/envs/projects/lib/python3.9/site-packages/IPython/core/magics/script.py\u001b[0m in \u001b[0;36mshebang\u001b[0;34m(self, line, cell)\u001b[0m\n\u001b[1;32m    243\u001b[0m             \u001b[0msys\u001b[0m\u001b[0;34m.\u001b[0m\u001b[0mstderr\u001b[0m\u001b[0;34m.\u001b[0m\u001b[0mflush\u001b[0m\u001b[0;34m(\u001b[0m\u001b[0;34m)\u001b[0m\u001b[0;34m\u001b[0m\u001b[0;34m\u001b[0m\u001b[0m\n\u001b[1;32m    244\u001b[0m         \u001b[0;32mif\u001b[0m \u001b[0margs\u001b[0m\u001b[0;34m.\u001b[0m\u001b[0mraise_error\u001b[0m \u001b[0;32mand\u001b[0m \u001b[0mp\u001b[0m\u001b[0;34m.\u001b[0m\u001b[0mreturncode\u001b[0m\u001b[0;34m!=\u001b[0m\u001b[0;36m0\u001b[0m\u001b[0;34m:\u001b[0m\u001b[0;34m\u001b[0m\u001b[0;34m\u001b[0m\u001b[0m\n\u001b[0;32m--> 245\u001b[0;31m             \u001b[0;32mraise\u001b[0m \u001b[0mCalledProcessError\u001b[0m\u001b[0;34m(\u001b[0m\u001b[0mp\u001b[0m\u001b[0;34m.\u001b[0m\u001b[0mreturncode\u001b[0m\u001b[0;34m,\u001b[0m \u001b[0mcell\u001b[0m\u001b[0;34m,\u001b[0m \u001b[0moutput\u001b[0m\u001b[0;34m=\u001b[0m\u001b[0mout\u001b[0m\u001b[0;34m,\u001b[0m \u001b[0mstderr\u001b[0m\u001b[0;34m=\u001b[0m\u001b[0merr\u001b[0m\u001b[0;34m)\u001b[0m\u001b[0;34m\u001b[0m\u001b[0;34m\u001b[0m\u001b[0m\n\u001b[0m\u001b[1;32m    246\u001b[0m \u001b[0;34m\u001b[0m\u001b[0m\n\u001b[1;32m    247\u001b[0m     \u001b[0;32mdef\u001b[0m \u001b[0m_run_script\u001b[0m\u001b[0;34m(\u001b[0m\u001b[0mself\u001b[0m\u001b[0;34m,\u001b[0m \u001b[0mp\u001b[0m\u001b[0;34m,\u001b[0m \u001b[0mcell\u001b[0m\u001b[0;34m,\u001b[0m \u001b[0mto_close\u001b[0m\u001b[0;34m)\u001b[0m\u001b[0;34m:\u001b[0m\u001b[0;34m\u001b[0m\u001b[0;34m\u001b[0m\u001b[0m\n",
                        "\u001b[0;31mCalledProcessError\u001b[0m: Command 'b'ploomber cloud set-key $YOUR_API_KEY\\n'' returned non-zero exit status 2."
                    ]
                }
            ],
            "source": [
                "%%bash\n",
                "ploomber cloud set-key $YOUR_API_KEY"
            ]
        },
        {
            "cell_type": "code",
            "execution_count": null,
            "id": "0cc48cc0",
            "metadata": {
                "papermill": {
                    "duration": null,
                    "end_time": null,
                    "exception": null,
                    "start_time": null,
                    "status": "pending"
                },
                "tags": []
            },
            "outputs": [],
            "source": [
                "%%bash\n",
                "ploomber cloud get-key"
            ]
        },
        {
            "cell_type": "markdown",
            "id": "32e92770",
            "metadata": {
                "papermill": {
                    "duration": null,
                    "end_time": null,
                    "exception": null,
                    "start_time": null,
                    "status": "pending"
                },
                "tags": []
            },
            "source": [
                "## Run your pipeline\n",
                "We can get all of our pipeline execution history by running the command below, we can check out if we have anything that was errored out"
            ]
        },
        {
            "cell_type": "code",
            "execution_count": null,
            "id": "cacd0b50",
            "metadata": {
                "lines_to_next_cell": 0,
                "papermill": {
                    "duration": null,
                    "end_time": null,
                    "exception": null,
                    "start_time": null,
                    "status": "pending"
                },
                "tags": []
            },
            "outputs": [],
            "source": [
                "%%bash\n",
                "ploomber cloud get-pipelines"
            ]
        },
        {
            "cell_type": "markdown",
            "id": "93d01396",
            "metadata": {
                "papermill": {
                    "duration": null,
                    "end_time": null,
                    "exception": null,
                    "start_time": null,
                    "status": "pending"
                },
                "tags": []
            },
            "source": [
                "now let's run the sample ml-basic pipeline and see how it's tracked"
            ]
        },
        {
            "cell_type": "code",
            "execution_count": null,
            "id": "b4b05989",
            "metadata": {
                "papermill": {
                    "duration": null,
                    "end_time": null,
                    "exception": null,
                    "start_time": null,
                    "status": "pending"
                },
                "tags": []
            },
            "outputs": [],
            "source": [
                "%%sh --no-raise-error\n",
                "ploomber build"
            ]
        },
        {
            "cell_type": "markdown",
            "id": "67dd0579",
            "metadata": {
                "papermill": {
                    "duration": null,
                    "end_time": null,
                    "exception": null,
                    "start_time": null,
                    "status": "pending"
                },
                "tags": []
            },
            "source": [
                "Seeing how a successful pipeline looks like. You can also view the alerting mechanism - check out your email report!"
            ]
        },
        {
            "cell_type": "code",
            "execution_count": null,
            "id": "9cf17384",
            "metadata": {
                "lines_to_next_cell": 0,
                "papermill": {
                    "duration": null,
                    "end_time": null,
                    "exception": null,
                    "start_time": null,
                    "status": "pending"
                },
                "tags": []
            },
            "outputs": [],
            "source": [
                "%%bash\n",
                "ploomber cloud get-pipelines latest"
            ]
        },
        {
            "cell_type": "markdown",
            "id": "06a07065",
            "metadata": {
                "papermill": {
                    "duration": null,
                    "end_time": null,
                    "exception": null,
                    "start_time": null,
                    "status": "pending"
                },
                "tags": []
            },
            "source": [
                "![working-monitoring](https://ploomber.io/images/doc/monitoring-pipeline.png)"
            ]
        },
        {
            "cell_type": "code",
            "execution_count": null,
            "id": "abebd7a6",
            "metadata": {
                "papermill": {
                    "duration": null,
                    "end_time": null,
                    "exception": null,
                    "start_time": null,
                    "status": "pending"
                },
                "tags": []
            },
            "outputs": [],
            "source": [
                "from pathlib import Path\n",
                "\n",
                "path = Path('fit.py')\n",
                "clean = path.read_text()\n",
                "\n",
                "# add a print statement at the end of 3-clean.py\n",
                "path.write_text(clean + \"\"\"\n",
                "raise ValueError(\"This is a sample error in the model fit\")\n",
                "\"\"\")"
            ]
        },
        {
            "cell_type": "code",
            "execution_count": null,
            "id": "114c0337",
            "metadata": {
                "papermill": {
                    "duration": null,
                    "end_time": null,
                    "exception": null,
                    "start_time": null,
                    "status": "pending"
                },
                "tags": []
            },
            "outputs": [],
            "source": [
                "%%sh --no-raise-error\n",
                "ploomber build"
            ]
        },
        {
            "cell_type": "markdown",
            "id": "7d9070d4",
            "metadata": {
                "papermill": {
                    "duration": null,
                    "end_time": null,
                    "exception": null,
                    "start_time": null,
                    "status": "pending"
                },
                "tags": []
            },
            "source": [
                "### Check your email\n",
                "You should have a similar email stating a pipeline errored out and the error trace.\n",
                "\n",
                "![errored-pip-monitoring](https://ploomber.io/images/doc/monitoring-pipeline.png)\n",
                "\n",
                "You can also get all of the active pipelines, we'll see only ones that didn't finished yet."
            ]
        },
        {
            "cell_type": "code",
            "execution_count": null,
            "id": "44424a8c",
            "metadata": {
                "papermill": {
                    "duration": null,
                    "end_time": null,
                    "exception": null,
                    "start_time": null,
                    "status": "pending"
                },
                "tags": []
            },
            "outputs": [],
            "source": [
                "%%bash\n",
                "ploomber cloud get-pipelines active"
            ]
        },
        {
            "cell_type": "markdown",
            "id": "1e07cb98",
            "metadata": {
                "papermill": {
                    "duration": null,
                    "end_time": null,
                    "exception": null,
                    "start_time": null,
                    "status": "pending"
                },
                "tags": []
            },
            "source": [
                "We can also delete errored pipelines if we'd like to for instance we can run the command below to delete the ml pipeline.\n"
            ]
        },
        {
            "cell_type": "code",
            "execution_count": null,
            "id": "ae22cd27",
            "metadata": {
                "papermill": {
                    "duration": null,
                    "end_time": null,
                    "exception": null,
                    "start_time": null,
                    "status": "pending"
                },
                "tags": []
            },
            "outputs": [],
            "source": [
                "%%sh --no-raise-error\n",
                "ploomber cloud delete-pipeline 9448f7ee-cc90-4e8a-8539-98e2ed0b4061"
            ]
        },
        {
            "cell_type": "markdown",
            "id": "075aa062",
            "metadata": {
                "papermill": {
                    "duration": null,
                    "end_time": null,
                    "exception": null,
                    "start_time": null,
                    "status": "pending"
                },
                "tags": []
            },
            "source": [
                "# Conclusion\n",
                "This short guide allows you to track your pipelines, it's especially relevant when running parallel/long executions and you want to be notified once your workflow has finished.\n",
                "\n",
                "For more information you can check out the official guide: https://docs.ploomber.io/en/latest/cloud/index.html"
            ]
        }
    ],
    "metadata": {
        "kernelspec": {
            "display_name": "Python 3 (ipykernel)",
            "language": "python",
            "name": "python3"
        },
        "language_info": {
            "codemirror_mode": {
                "name": "ipython",
                "version": 3
            },
            "file_extension": ".py",
            "mimetype": "text/x-python",
            "name": "python",
            "nbconvert_exporter": "python",
            "pygments_lexer": "ipython3",
            "version": "3.9.7"
        },
        "papermill": {
            "default_parameters": {},
            "duration": 8.401579,
            "end_time": "2022-05-13T23:50:53.668063",
            "environment_variables": {},
            "exception": true,
            "input_path": "guides/monitoring/_build/readme_preprocessed.ipynb",
            "output_path": "guides/monitoring/README.ipynb",
            "parameters": {},
            "start_time": "2022-05-13T23:50:45.266484",
            "version": "2.3.4"
        }
    },
    "nbformat": 4,
    "nbformat_minor": 5
}
