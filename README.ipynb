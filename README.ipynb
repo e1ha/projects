{
    "cells": [
        {
            "cell_type": "markdown",
            "id": "12cfc370",
            "metadata": {
                "papermill": {
                    "duration": 0.022243,
                    "end_time": "2022-08-23T01:40:13.787872",
                    "exception": false,
                    "start_time": "2022-08-23T01:40:13.765629",
                    "status": "completed"
                },
                "tags": []
            },
            "source": [
                "# Ploomber sample projects\n",
                "\n",
                "![CI](https://github.com/ploomber/projects/workflows/ci/badge.svg)\n",
                "\n",
                "<p align=\"center\">\n",
                "  <a href=\"https://ploomber.io/community\">Join our community</a>\n",
                "  |\n",
                "  <a href=\"https://www.getrevue.co/profile/ploomber\">Newsletter</a>\n",
                "  |\n",
                "  <a href=\"https://docs.ploomber.io/\">Docs</a>\n",
                "  |\n",
                "  <a href=\"https://twitter.com/intent/user?screen_name=ploomber\">Twitter</a>\n",
                "  |\n",
                "  <a href=\"https://ploomber.io/\">Blog</a>\n",
                "  |\n",
                "  <a href=\"https://www.youtube.com/channel/UCaIS5BMlmeNQE4-Gn0xTDXQ\">YouTube</a>\n",
                "  |\n",
                "  <a href=\"mailto:contact@ploomber.io\">Contact us</a>\n",
                "</p>\n",
                "\n",
                "This repository contains sample pipelines developed using [Ploomber](https://github.com/ploomber/ploomber).\n",
                "\n",
                "**Note:** We recommend you to go through the [first tutorial](https://docs.ploomber.io/en/latest/get-started/first-pipeline.html) to learn the basics of Ploomber.\n",
                "\n",
                "## Running examples"
            ]
        },
        {
            "cell_type": "markdown",
            "id": "6f6e19db",
            "metadata": {
                "papermill": {
                    "duration": 0.017402,
                    "end_time": "2022-08-23T01:40:13.822471",
                    "exception": false,
                    "start_time": "2022-08-23T01:40:13.805069",
                    "status": "completed"
                },
                "tags": []
            },
            "source": [
                "Use Colab:\n",
                "\n",
                "<p align=\"center\">\n",
                "    <a href=\"https://colab.research.google.com/github/ploomber/projects/blob/master/guides/first-pipeline/colab.ipynb\"><img src=\"https://colab.research.google.com/assets/colab-badge.svg\" alt=\"Open In Colab\"/></a>\n",
                "</p>\n",
                "\n",
                "Use Binder (free, hosted JupyterLab):\n",
                "\n",
                "[![Binder](https://binder.ploomber.io/badge_logo.svg)](https://binder.ploomber.io/v2/gh/ploomber/binder-env/main?urlpath=git-pull%3Frepo%3Dhttps%253A%252F%252Fgithub.com%252Fploomber%252Fprojects%26urlpath%3Dlab%252Ftree%252Fprojects%252FREADME.ipynb%26branch%3Dmaster)\n",
                "\n",
                "Or run locally:\n",
                "\n",
                "~~~sh\n",
                "pip install ploomber\n",
                "\n",
                "# list examples\n",
                "ploomber examples\n",
                "\n",
                "# download example with name\n",
                "ploomber examples --name {name}\n",
                "\n",
                "# example\n",
                "ploomber examples --name templates/mlflow\n",
                "~~~\n",
                "\n",
                "## How to read the examples\n",
                "\n",
                "Each example contains a `README.md` file that describes it; a `README.ipynb` is also available with the same contents but in Jupyter notebook format and with command outputs. In addition, files for `pip` (`requirements.txt`) and  `conda` (`environment.yml`) are provided for local execution.\n",
                "\n",
                "## Index\n",
                "\n",
                "### Templates\n",
                "\n",
                "Starting points for common use cases. Use them to ramp up a project quickly."
            ]
        },
        {
            "cell_type": "markdown",
            "id": "5f98a917",
            "metadata": {
                "papermill": {
                    "duration": 0.017034,
                    "end_time": "2022-08-23T01:40:13.855586",
                    "exception": false,
                    "start_time": "2022-08-23T01:40:13.838552",
                    "status": "completed"
                },
                "tags": []
            },
            "source": [
                "1. [`templates/etl`](templates/etl/README.ipynb) Download a data file, upload it to a database, process it, and plot with Python and R.\n",
                "\n",
                "2. [`templates/exploratory-analysis`](templates/exploratory-analysis/README.ipynb) Sample pipeline that explores penguins data.\n",
                "\n",
                "3. [`templates/google-cloud`](templates/google-cloud/README.ipynb) Use Google Cloud and Ploomber to develop a scalable and production-ready pipeline.\n",
                "\n",
                "4. [`templates/ml-advanced`](templates/ml-advanced/README.ipynb) ML pipeline using the Python API. Shows how to create a Python package, test it with pytest, and train models in parallel.\n",
                "\n",
                "5. [`templates/ml-basic`](templates/ml-basic/README.ipynb) Download data, clean it, generate features and train a model.\n",
                "\n",
                "6. [`templates/ml-intermediate`](templates/ml-intermediate/README.ipynb) Training and serving ML pipelines with integration testing to evaluate training data quality.\n",
                "\n",
                "7. [`templates/ml-online`](templates/ml-online/README.ipynb) Load data, generate features, train a model, and deploy model with flask.\n",
                "\n",
                "8. [`templates/mlflow`](templates/mlflow/README.ipynb) Train a grid of models and log them to MLflow.\n",
                "\n",
                "9. [`templates/python-api`](templates/python-api/README.ipynb) Loads, clean, and plot data using the Python API.\n",
                "\n",
                "10. [`templates/pytorch`](templates/pytorch/README.ipynb) Using GPUs to train models in Ploomber Cloud.\n",
                "\n",
                "11. [`templates/shell`](templates/shell/README.ipynb) Create a pipeline with shell scripts as tasks.\n",
                "\n",
                "12. [`templates/spec-api-directory`](templates/spec-api-directory/README.ipynb) Create a pipeline from a directory with scripts (without a pipeline.yaml file).\n",
                "\n",
                "13. [`templates/spec-api-r`](templates/spec-api-r/README.ipynb) Load, clean and plot data with R.\n",
                "\n",
                "14. [`templates/spec-api-sql`](templates/spec-api-sql/README.ipynb) Use SQL scripts to manipulate data in a database, dump a table, and plot it with Python."
            ]
        },
        {
            "cell_type": "markdown",
            "id": "30a6d1f0",
            "metadata": {
                "papermill": {
                    "duration": 0.016544,
                    "end_time": "2022-08-23T01:40:13.887964",
                    "exception": false,
                    "start_time": "2022-08-23T01:40:13.871420",
                    "status": "completed"
                },
                "tags": []
            },
            "source": [
                "### Cookbook\n",
                "\n",
                "Short and to-the-point examples showing how to use a specific feature."
            ]
        },
        {
            "cell_type": "markdown",
            "id": "ec12512c",
            "metadata": {
                "papermill": {
                    "duration": 0.017578,
                    "end_time": "2022-08-23T01:40:13.921347",
                    "exception": false,
                    "start_time": "2022-08-23T01:40:13.903769",
                    "status": "completed"
                },
                "tags": []
            },
            "source": [
                "1. [`cookbook/dynamic-params`](cookbook/dynamic-params/README.ipynb) Pipeline parameters whose values are computed at runtime.\n",
                "\n",
                "2. [`cookbook/file-client`](cookbook/file-client/README.ipynb) Upload task's products upon execution (local, S3, GCloud storage)\n",
                "\n",
                "3. [`cookbook/grid`](cookbook/grid/README.ipynb) An example showing how to create a grid of tasks to train models with different parameters.\n",
                "\n",
                "4. [`cookbook/hooks`](cookbook/hooks/README.ipynb) Task hooks\n",
                "\n",
                "5. [`cookbook/nested-cv`](cookbook/nested-cv/README.ipynb) Nested cross-validation for model selection and hyperparameter tuning.\n",
                "\n",
                "6. [`cookbook/python-load`](cookbook/python-load/README.ipynb) Load pipeline.yaml file in a Python session to customize initialization.\n",
                "\n",
                "7. [`cookbook/report-generation`](cookbook/report-generation/README.ipynb) Generating HTML/PDF reports.\n",
                "\n",
                "8. [`cookbook/serialization`](cookbook/serialization/README.ipynb) Shows how to use the serializer and unserializer decorators.\n",
                "\n",
                "9. [`cookbook/sql-dump`](cookbook/sql-dump/README.ipynb) A minimal example showing how to dump a table from a SQL database.\n",
                "\n",
                "11. [`cookbook/variable-number-of-products`](cookbook/variable-number-of-products/README.ipynb) Shows how to create tasks whose number of products depends on runtime conditions."
            ]
        },
        {
            "cell_type": "markdown",
            "id": "9e720293",
            "metadata": {
                "papermill": {
                    "duration": 0.016903,
                    "end_time": "2022-08-23T01:40:13.956259",
                    "exception": false,
                    "start_time": "2022-08-23T01:40:13.939356",
                    "status": "completed"
                },
                "tags": []
            },
            "source": [
                "### Guides\n",
                "\n",
                "In-depth tutorials for learning.  These are part of the [documentation](https://docs.ploomber.io/en/latest/user-guide/index.html)."
            ]
        },
        {
            "cell_type": "markdown",
            "id": "24070cd7",
            "metadata": {
                "papermill": {
                    "duration": 0.015011,
                    "end_time": "2022-08-23T01:40:13.987580",
                    "exception": false,
                    "start_time": "2022-08-23T01:40:13.972569",
                    "status": "completed"
                },
                "tags": []
            },
            "source": [
                "2. [`guides/cron`](guides/cron/README.ipynb) This guide shows how to schedule Ploomber pipelines using cron.\n",
                "\n",
                "3. [`guides/debugging`](guides/debugging/README.ipynb) Tutorial showing techniques for debugging pipelines.\n",
                "\n",
                "4. [`guides/first-pipeline`](guides/first-pipeline/README.ipynb) Introductory tutorial to learn the basics of Ploomber.\n",
                "\n",
                "5. [`guides/intro-to-ploomber`](guides/intro-to-ploomber/README.ipynb) Introductory tutorial to learn the basics of Ploomber.\n",
                "\n",
                "6. [`guides/logging`](guides/logging/README.ipynb) Tutorial showing how to add logging to a pipeline.\n",
                "\n",
                "7. [`guides/monitoring`](guides/monitoring/README.ipynb) To show the capabilities we'll run our pipeline monitoring through a pre-built Ploomber template: ml-basic.\n",
                "\n",
                "8. [`guides/parametrized`](guides/parametrized/README.ipynb) Tutorial showing how to parametrize pipelines and change parameters from the command-line.\n",
                "\n",
                "9. [`guides/refactor`](guides/refactor/README.ipynb) Using Soorgeon to convert a notebook into a Ploomber pipeline.\n",
                "\n",
                "10. [`guides/serialization`](guides/serialization/README.ipynb) Tutorial explaining how the serializer and unserializer fields in a pipeline.yaml file work.\n",
                "\n",
                "11. [`guides/sql-templating`](guides/sql-templating/README.ipynb) Introductory tutorial teaching how to develop modular SQL pipelines.\n",
                "\n",
                "12. [`guides/testing`](guides/testing/README.ipynb) Tutorial showing how to use a task's on_finish hook to test data quality.\n",
                "\n",
                "13. [`guides/versioning`](guides/versioning/README.ipynb) A tutorial showing how to version pipeline products.\n"
            ]
        },
        {
            "cell_type": "markdown",
            "id": "50612bcd",
            "metadata": {
                "papermill": {
                    "duration": 0.017109,
                    "end_time": "2022-08-23T01:40:14.023622",
                    "exception": false,
                    "start_time": "2022-08-23T01:40:14.006513",
                    "status": "completed"
                },
                "tags": []
            },
            "source": [
                "## Python API\n",
                "\n",
                "The simplest way to get started with Ploomber is via the Spec API, which allows you to describe pipelines using a `pipeline.yaml` file, most examples on this repository use the Spec API. However, if you want more flexibility, you may write pipelines with Python.\n",
                "\n",
                "The [`templates/python-api/`](templates/python-api) directory contains a project written using the Python API. And the [`python-api-examples/`](python-api-examples) includes some tutorials and more examples."
            ]
        },
        {
            "cell_type": "markdown",
            "id": "b267bdab",
            "metadata": {
                "papermill": {
                    "duration": 0.026365,
                    "end_time": "2022-08-23T01:40:14.068727",
                    "exception": false,
                    "start_time": "2022-08-23T01:40:14.042362",
                    "status": "completed"
                },
                "tags": []
            },
            "source": [
                "## Micro-pipelines\n",
                "\n",
                "In Ploomber `0.21`, we introduced a simplified API to write pipelines in a single Jupyter notebook (or `.py`) file. This is a great option for small projects.\n",
                "\n",
                "You can find the examples in the [`micro-pipelines/`](micro-pipelines) directory."
            ]
        }
    ],
    "metadata": {
        "jupytext": {
            "cell_metadata_filter": "-all",
            "main_language": "python",
            "notebook_metadata_filter": "-all"
        },
        "language_info": {
            "codemirror_mode": {
                "name": "ipython",
                "version": 3
            },
            "file_extension": ".py",
            "mimetype": "text/x-python",
            "name": "python",
            "nbconvert_exporter": "python",
            "pygments_lexer": "ipython3",
            "version": "3.9.7"
        },
        "papermill": {
            "default_parameters": {},
            "duration": 2.29493,
            "end_time": "2022-08-23T01:40:14.302439",
            "environment_variables": {},
            "exception": null,
            "input_path": "README.ipynb",
            "output_path": "README.ipynb",
            "parameters": {},
            "start_time": "2022-08-23T01:40:12.007509",
            "version": "2.3.4"
        }
    },
    "nbformat": 4,
    "nbformat_minor": 5
}
